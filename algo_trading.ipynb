{
  "cells": [
    {
      "cell_type": "markdown",
      "metadata": {
        "id": "view-in-github",
        "colab_type": "text"
      },
      "source": [
        "<a href=\"https://colab.research.google.com/github/Sanjeevani200303/Algo-trading-project/blob/main/algo_trading.ipynb\" target=\"_parent\"><img src=\"https://colab.research.google.com/assets/colab-badge.svg\" alt=\"Open In Colab\"/></a>"
      ]
    },
    {
      "cell_type": "markdown",
      "metadata": {
        "id": "HuzsA2yQxsdq"
      },
      "source": [
        "Algorithmic trading, also called automated trading uses a computer program that follows a defined set of instructions (an algorithm) to place a trade. We can build many trading algorithms by applying different strategies using technical indicators and valuation metrics.\n",
        "\n",
        "The process of running an investing strategy is divided into three steps.\n",
        "\n",
        "1.\tCollect data\n",
        "2.\tDevelop hypothesis for a strategy\n",
        "3.\tBacktest the strategy\n",
        "4.\tImplement the strategy in production\n",
        "\n",
        "Here, we are trying to build momentum and value investing strategies, the two of many investing strategies of the market,based on some valuation metrics, on S&P 500 stocks.\n"
      ]
    },
    {
      "cell_type": "code",
      "execution_count": null,
      "metadata": {
        "_cell_guid": "b1076dfc-b9ad-4769-8c92-a6c4dae69d19",
        "_uuid": "8f2839f25d086af736a60e9eeb907d3b93b6e0e5",
        "execution": {
          "iopub.execute_input": "2022-03-02T18:11:30.375096Z",
          "iopub.status.busy": "2022-03-02T18:11:30.373949Z",
          "iopub.status.idle": "2022-03-02T18:11:30.392285Z",
          "shell.execute_reply": "2022-03-02T18:11:30.390974Z",
          "shell.execute_reply.started": "2022-03-02T18:11:30.375045Z"
        },
        "trusted": true,
        "colab": {
          "base_uri": "https://localhost:8080/",
          "height": 373
        },
        "id": "PquW-xhdxsdv",
        "outputId": "0b5ab814-5050-4d49-fa71-c7644894f45f"
      },
      "outputs": [
        {
          "output_type": "stream",
          "name": "stdout",
          "text": [
            "Drive already mounted at /content/drive; to attempt to forcibly remount, call drive.mount(\"/content/drive\", force_remount=True).\n"
          ]
        },
        {
          "output_type": "error",
          "ename": "FileNotFoundError",
          "evalue": "[Errno 2] No such file or directory: '/kaggle/input/algorithmic-trading-dataset/value_strategy_1.csv.csv'",
          "traceback": [
            "\u001b[0;31m---------------------------------------------------------------------------\u001b[0m",
            "\u001b[0;31mFileNotFoundError\u001b[0m                         Traceback (most recent call last)",
            "\u001b[0;32m/tmp/ipython-input-2-3224441987.py\u001b[0m in \u001b[0;36m<cell line: 0>\u001b[0;34m()\u001b[0m\n\u001b[1;32m     14\u001b[0m \u001b[0;34m\u001b[0m\u001b[0m\n\u001b[1;32m     15\u001b[0m \u001b[0;31m# Replace `/kaggle/input/` with the appropriate Google Drive file paths\u001b[0m\u001b[0;34m\u001b[0m\u001b[0;34m\u001b[0m\u001b[0m\n\u001b[0;32m---> 16\u001b[0;31m \u001b[0mvalue_strategy\u001b[0m \u001b[0;34m=\u001b[0m \u001b[0mpd\u001b[0m\u001b[0;34m.\u001b[0m\u001b[0mread_csv\u001b[0m\u001b[0;34m(\u001b[0m\u001b[0;34m\"/kaggle/input/algorithmic-trading-dataset/value_strategy_1.csv.csv\"\u001b[0m\u001b[0;34m)\u001b[0m\u001b[0;34m\u001b[0m\u001b[0;34m\u001b[0m\u001b[0m\n\u001b[0m\u001b[1;32m     17\u001b[0m \u001b[0mrecommended_trades\u001b[0m \u001b[0;34m=\u001b[0m \u001b[0mpd\u001b[0m\u001b[0;34m.\u001b[0m\u001b[0mread_csv\u001b[0m\u001b[0;34m(\u001b[0m\u001b[0;34m\"/kaggle/input/algorithmic-trading-dataset/recommended_trades_1.csv.csv\"\u001b[0m\u001b[0;34m)\u001b[0m\u001b[0;34m\u001b[0m\u001b[0;34m\u001b[0m\u001b[0m\n\u001b[1;32m     18\u001b[0m \u001b[0mmomentum_strategy\u001b[0m \u001b[0;34m=\u001b[0m \u001b[0mpd\u001b[0m\u001b[0;34m.\u001b[0m\u001b[0mread_csv\u001b[0m\u001b[0;34m(\u001b[0m\u001b[0;34m\"/kaggle/input/algorithmic-trading-dataset/momentum_strategy_1.csv.csv\"\u001b[0m\u001b[0;34m)\u001b[0m\u001b[0;34m\u001b[0m\u001b[0;34m\u001b[0m\u001b[0m\n",
            "\u001b[0;32m/usr/local/lib/python3.11/dist-packages/pandas/io/parsers/readers.py\u001b[0m in \u001b[0;36mread_csv\u001b[0;34m(filepath_or_buffer, sep, delimiter, header, names, index_col, usecols, dtype, engine, converters, true_values, false_values, skipinitialspace, skiprows, skipfooter, nrows, na_values, keep_default_na, na_filter, verbose, skip_blank_lines, parse_dates, infer_datetime_format, keep_date_col, date_parser, date_format, dayfirst, cache_dates, iterator, chunksize, compression, thousands, decimal, lineterminator, quotechar, quoting, doublequote, escapechar, comment, encoding, encoding_errors, dialect, on_bad_lines, delim_whitespace, low_memory, memory_map, float_precision, storage_options, dtype_backend)\u001b[0m\n\u001b[1;32m   1024\u001b[0m     \u001b[0mkwds\u001b[0m\u001b[0;34m.\u001b[0m\u001b[0mupdate\u001b[0m\u001b[0;34m(\u001b[0m\u001b[0mkwds_defaults\u001b[0m\u001b[0;34m)\u001b[0m\u001b[0;34m\u001b[0m\u001b[0;34m\u001b[0m\u001b[0m\n\u001b[1;32m   1025\u001b[0m \u001b[0;34m\u001b[0m\u001b[0m\n\u001b[0;32m-> 1026\u001b[0;31m     \u001b[0;32mreturn\u001b[0m \u001b[0m_read\u001b[0m\u001b[0;34m(\u001b[0m\u001b[0mfilepath_or_buffer\u001b[0m\u001b[0;34m,\u001b[0m \u001b[0mkwds\u001b[0m\u001b[0;34m)\u001b[0m\u001b[0;34m\u001b[0m\u001b[0;34m\u001b[0m\u001b[0m\n\u001b[0m\u001b[1;32m   1027\u001b[0m \u001b[0;34m\u001b[0m\u001b[0m\n\u001b[1;32m   1028\u001b[0m \u001b[0;34m\u001b[0m\u001b[0m\n",
            "\u001b[0;32m/usr/local/lib/python3.11/dist-packages/pandas/io/parsers/readers.py\u001b[0m in \u001b[0;36m_read\u001b[0;34m(filepath_or_buffer, kwds)\u001b[0m\n\u001b[1;32m    618\u001b[0m \u001b[0;34m\u001b[0m\u001b[0m\n\u001b[1;32m    619\u001b[0m     \u001b[0;31m# Create the parser.\u001b[0m\u001b[0;34m\u001b[0m\u001b[0;34m\u001b[0m\u001b[0m\n\u001b[0;32m--> 620\u001b[0;31m     \u001b[0mparser\u001b[0m \u001b[0;34m=\u001b[0m \u001b[0mTextFileReader\u001b[0m\u001b[0;34m(\u001b[0m\u001b[0mfilepath_or_buffer\u001b[0m\u001b[0;34m,\u001b[0m \u001b[0;34m**\u001b[0m\u001b[0mkwds\u001b[0m\u001b[0;34m)\u001b[0m\u001b[0;34m\u001b[0m\u001b[0;34m\u001b[0m\u001b[0m\n\u001b[0m\u001b[1;32m    621\u001b[0m \u001b[0;34m\u001b[0m\u001b[0m\n\u001b[1;32m    622\u001b[0m     \u001b[0;32mif\u001b[0m \u001b[0mchunksize\u001b[0m \u001b[0;32mor\u001b[0m \u001b[0miterator\u001b[0m\u001b[0;34m:\u001b[0m\u001b[0;34m\u001b[0m\u001b[0;34m\u001b[0m\u001b[0m\n",
            "\u001b[0;32m/usr/local/lib/python3.11/dist-packages/pandas/io/parsers/readers.py\u001b[0m in \u001b[0;36m__init__\u001b[0;34m(self, f, engine, **kwds)\u001b[0m\n\u001b[1;32m   1618\u001b[0m \u001b[0;34m\u001b[0m\u001b[0m\n\u001b[1;32m   1619\u001b[0m         \u001b[0mself\u001b[0m\u001b[0;34m.\u001b[0m\u001b[0mhandles\u001b[0m\u001b[0;34m:\u001b[0m \u001b[0mIOHandles\u001b[0m \u001b[0;34m|\u001b[0m \u001b[0;32mNone\u001b[0m \u001b[0;34m=\u001b[0m \u001b[0;32mNone\u001b[0m\u001b[0;34m\u001b[0m\u001b[0;34m\u001b[0m\u001b[0m\n\u001b[0;32m-> 1620\u001b[0;31m         \u001b[0mself\u001b[0m\u001b[0;34m.\u001b[0m\u001b[0m_engine\u001b[0m \u001b[0;34m=\u001b[0m \u001b[0mself\u001b[0m\u001b[0;34m.\u001b[0m\u001b[0m_make_engine\u001b[0m\u001b[0;34m(\u001b[0m\u001b[0mf\u001b[0m\u001b[0;34m,\u001b[0m \u001b[0mself\u001b[0m\u001b[0;34m.\u001b[0m\u001b[0mengine\u001b[0m\u001b[0;34m)\u001b[0m\u001b[0;34m\u001b[0m\u001b[0;34m\u001b[0m\u001b[0m\n\u001b[0m\u001b[1;32m   1621\u001b[0m \u001b[0;34m\u001b[0m\u001b[0m\n\u001b[1;32m   1622\u001b[0m     \u001b[0;32mdef\u001b[0m \u001b[0mclose\u001b[0m\u001b[0;34m(\u001b[0m\u001b[0mself\u001b[0m\u001b[0;34m)\u001b[0m \u001b[0;34m->\u001b[0m \u001b[0;32mNone\u001b[0m\u001b[0;34m:\u001b[0m\u001b[0;34m\u001b[0m\u001b[0;34m\u001b[0m\u001b[0m\n",
            "\u001b[0;32m/usr/local/lib/python3.11/dist-packages/pandas/io/parsers/readers.py\u001b[0m in \u001b[0;36m_make_engine\u001b[0;34m(self, f, engine)\u001b[0m\n\u001b[1;32m   1878\u001b[0m                 \u001b[0;32mif\u001b[0m \u001b[0;34m\"b\"\u001b[0m \u001b[0;32mnot\u001b[0m \u001b[0;32min\u001b[0m \u001b[0mmode\u001b[0m\u001b[0;34m:\u001b[0m\u001b[0;34m\u001b[0m\u001b[0;34m\u001b[0m\u001b[0m\n\u001b[1;32m   1879\u001b[0m                     \u001b[0mmode\u001b[0m \u001b[0;34m+=\u001b[0m \u001b[0;34m\"b\"\u001b[0m\u001b[0;34m\u001b[0m\u001b[0;34m\u001b[0m\u001b[0m\n\u001b[0;32m-> 1880\u001b[0;31m             self.handles = get_handle(\n\u001b[0m\u001b[1;32m   1881\u001b[0m                 \u001b[0mf\u001b[0m\u001b[0;34m,\u001b[0m\u001b[0;34m\u001b[0m\u001b[0;34m\u001b[0m\u001b[0m\n\u001b[1;32m   1882\u001b[0m                 \u001b[0mmode\u001b[0m\u001b[0;34m,\u001b[0m\u001b[0;34m\u001b[0m\u001b[0;34m\u001b[0m\u001b[0m\n",
            "\u001b[0;32m/usr/local/lib/python3.11/dist-packages/pandas/io/common.py\u001b[0m in \u001b[0;36mget_handle\u001b[0;34m(path_or_buf, mode, encoding, compression, memory_map, is_text, errors, storage_options)\u001b[0m\n\u001b[1;32m    871\u001b[0m         \u001b[0;32mif\u001b[0m \u001b[0mioargs\u001b[0m\u001b[0;34m.\u001b[0m\u001b[0mencoding\u001b[0m \u001b[0;32mand\u001b[0m \u001b[0;34m\"b\"\u001b[0m \u001b[0;32mnot\u001b[0m \u001b[0;32min\u001b[0m \u001b[0mioargs\u001b[0m\u001b[0;34m.\u001b[0m\u001b[0mmode\u001b[0m\u001b[0;34m:\u001b[0m\u001b[0;34m\u001b[0m\u001b[0;34m\u001b[0m\u001b[0m\n\u001b[1;32m    872\u001b[0m             \u001b[0;31m# Encoding\u001b[0m\u001b[0;34m\u001b[0m\u001b[0;34m\u001b[0m\u001b[0m\n\u001b[0;32m--> 873\u001b[0;31m             handle = open(\n\u001b[0m\u001b[1;32m    874\u001b[0m                 \u001b[0mhandle\u001b[0m\u001b[0;34m,\u001b[0m\u001b[0;34m\u001b[0m\u001b[0;34m\u001b[0m\u001b[0m\n\u001b[1;32m    875\u001b[0m                 \u001b[0mioargs\u001b[0m\u001b[0;34m.\u001b[0m\u001b[0mmode\u001b[0m\u001b[0;34m,\u001b[0m\u001b[0;34m\u001b[0m\u001b[0;34m\u001b[0m\u001b[0m\n",
            "\u001b[0;31mFileNotFoundError\u001b[0m: [Errno 2] No such file or directory: '/kaggle/input/algorithmic-trading-dataset/value_strategy_1.csv.csv'"
          ]
        }
      ],
      "source": [
        "# This Python 3 environment comes with many helpful analytics libraries installed\n",
        "# It is defined by the kaggle/python Docker image: https://github.com/kaggle/docker-python\n",
        "# For example, here's several helpful packages to load\n",
        "\n",
        "import numpy as np # linear algebra\n",
        "import pandas as pd # data processing, CSV file I/O (e.g. pd.read_csv)\n",
        "from google.colab import drive\n",
        "\n",
        "# Mount Google Drive\n",
        "drive.mount('/content/drive')\n",
        "\n",
        "# Input data files are available in the read-only \"../input/\" directory\n",
        "# For example, running this (by clicking run or pressing Shift+Enter) will list all files under the input directory\n",
        "\n",
        "# Replace `/kaggle/input/` with the appropriate Google Drive file paths\n",
        "value_strategy = pd.read_csv(\"/kaggle/input/algorithmic-trading-dataset/value_strategy_1.csv.csv\")\n",
        "recommended_trades = pd.read_csv(\"/kaggle/input/algorithmic-trading-dataset/recommended_trades_1.csv.csv\")\n",
        "momentum_strategy = pd.read_csv(\"/kaggle/input/algorithmic-trading-dataset/momentum_strategy_1.csv.csv\")\n",
        "trades = pd.read_csv(\"/kaggle/input/sp-500-stocks/sp_500_stocks.csv\")\n",
        "\n",
        "\n",
        "# You can write up to 20GB to the current directory (/kaggle/working/) that gets preserved as output when you create a version using \"Save & Run All\"\n",
        "# You can also write temporary files to /kaggle/temp/, but they won't be saved outside of the current session"
      ]
    },
    {
      "cell_type": "code",
      "execution_count": null,
      "metadata": {
        "execution": {
          "iopub.execute_input": "2022-03-02T18:11:30.395825Z",
          "iopub.status.busy": "2022-03-02T18:11:30.395066Z",
          "iopub.status.idle": "2022-03-02T18:11:30.42029Z",
          "shell.execute_reply": "2022-03-02T18:11:30.419075Z",
          "shell.execute_reply.started": "2022-03-02T18:11:30.395756Z"
        },
        "trusted": true,
        "id": "G-5NBKoIxsdw"
      },
      "outputs": [],
      "source": [
        "#Getting data from csv files.\n",
        "value_strategy = pd.read_csv(\"/kaggle/input/algorithmic-trading-dataset/value_strategy_1.csv.csv\")\n",
        "recommended_trades = pd.read_csv(\"/kaggle/input/algorithmic-trading-dataset/recommended_trades_1.csv.csv\")\n",
        "momentum_srategy = pd.read_csv(\"/kaggle/input/algorithmic-trading-dataset/momentum_strategy_1.csv.csv\")\n",
        "trades = pd.read_csv(\"/kaggle/input/sp-500-stocks/sp_500_stocks.csv\")"
      ]
    },
    {
      "cell_type": "code",
      "execution_count": null,
      "metadata": {
        "execution": {
          "iopub.execute_input": "2022-03-02T18:11:30.421894Z",
          "iopub.status.busy": "2022-03-02T18:11:30.421615Z",
          "iopub.status.idle": "2022-03-02T18:11:30.440281Z",
          "shell.execute_reply": "2022-03-02T18:11:30.439203Z",
          "shell.execute_reply.started": "2022-03-02T18:11:30.421864Z"
        },
        "trusted": true,
        "id": "FpqSlbHTxsdw"
      },
      "outputs": [],
      "source": [
        "momentum_srategy.head()\n",
        "#len(momentum_srategy)"
      ]
    },
    {
      "cell_type": "code",
      "execution_count": null,
      "metadata": {
        "execution": {
          "iopub.execute_input": "2022-03-02T18:11:30.442311Z",
          "iopub.status.busy": "2022-03-02T18:11:30.441993Z",
          "iopub.status.idle": "2022-03-02T18:11:30.471792Z",
          "shell.execute_reply": "2022-03-02T18:11:30.470933Z",
          "shell.execute_reply.started": "2022-03-02T18:11:30.442264Z"
        },
        "trusted": true,
        "id": "d2hApE2Yxsdx"
      },
      "outputs": [],
      "source": [
        "value_strategy.head()"
      ]
    },
    {
      "cell_type": "code",
      "execution_count": null,
      "metadata": {
        "execution": {
          "iopub.execute_input": "2022-03-02T18:11:30.474699Z",
          "iopub.status.busy": "2022-03-02T18:11:30.474357Z",
          "iopub.status.idle": "2022-03-02T18:11:30.489056Z",
          "shell.execute_reply": "2022-03-02T18:11:30.488211Z",
          "shell.execute_reply.started": "2022-03-02T18:11:30.474663Z"
        },
        "trusted": true,
        "id": "OdPOkDJQxsdx"
      },
      "outputs": [],
      "source": [
        "recommended_trades.head()\n",
        "#len(recommended_trades)"
      ]
    },
    {
      "cell_type": "code",
      "execution_count": null,
      "metadata": {
        "execution": {
          "iopub.execute_input": "2022-03-02T18:11:30.491064Z",
          "iopub.status.busy": "2022-03-02T18:11:30.490797Z",
          "iopub.status.idle": "2022-03-02T18:11:30.509897Z",
          "shell.execute_reply": "2022-03-02T18:11:30.50746Z",
          "shell.execute_reply.started": "2022-03-02T18:11:30.491032Z"
        },
        "trusted": true,
        "id": "br94AQ7txsdx"
      },
      "outputs": [],
      "source": [
        "trades.head()"
      ]
    },
    {
      "cell_type": "markdown",
      "metadata": {
        "execution": {
          "iopub.execute_input": "2022-02-16T18:14:36.218119Z",
          "iopub.status.busy": "2022-02-16T18:14:36.217405Z",
          "iopub.status.idle": "2022-02-16T18:14:36.243566Z",
          "shell.execute_reply": "2022-02-16T18:14:36.242514Z",
          "shell.execute_reply.started": "2022-02-16T18:14:36.218013Z"
        },
        "id": "60I1Jlsmxsdy"
      },
      "source": [
        "### Collecting the data\n",
        "Importing IEX Cloud API token\n",
        "\n",
        "Here, we are using IEX Cloud API(a data platform that provides access to financial data) to retreive the real time stock prices and all relevant information."
      ]
    },
    {
      "cell_type": "code",
      "execution_count": null,
      "metadata": {
        "execution": {
          "iopub.execute_input": "2022-03-02T18:11:30.513786Z",
          "iopub.status.busy": "2022-03-02T18:11:30.513338Z",
          "iopub.status.idle": "2022-03-02T18:11:31.273063Z",
          "shell.execute_reply": "2022-03-02T18:11:31.271928Z",
          "shell.execute_reply.started": "2022-03-02T18:11:30.513737Z"
        },
        "trusted": true,
        "id": "ouuesL1Txsdy"
      },
      "outputs": [],
      "source": [
        "import requests\n",
        "from kaggle_secrets import UserSecretsClient\n",
        "user_secrets = UserSecretsClient()\n",
        "IEX_CLOUD_API_TOKEN = \"Tpk_ddf77a77f6e7464390bb2adc85a2be11\"\n",
        "secret_value_0 = user_secrets.get_secret(\"IEX_CLOUD_API_TOKEN\")\n",
        "symbol = 'AAPL'\n",
        "#Getting the data of S&P stocks and storing it.\n",
        "api_url = f'https://sandbox.iexapis.com/stable/stock/{symbol}/quote?token={IEX_CLOUD_API_TOKEN}'\n",
        "data = requests.get(api_url).json()\n",
        "data"
      ]
    },
    {
      "cell_type": "markdown",
      "metadata": {
        "id": "N_Rgb1gzxsdy"
      },
      "source": [
        "Splitting stocks into groups of 100 and then make a batch API call for each group."
      ]
    },
    {
      "cell_type": "code",
      "execution_count": null,
      "metadata": {
        "execution": {
          "iopub.execute_input": "2022-03-02T18:11:31.274648Z",
          "iopub.status.busy": "2022-03-02T18:11:31.274415Z",
          "iopub.status.idle": "2022-03-02T18:11:31.287405Z",
          "shell.execute_reply": "2022-03-02T18:11:31.286314Z",
          "shell.execute_reply.started": "2022-03-02T18:11:31.27462Z"
        },
        "trusted": true,
        "id": "Ogh0S_Fmxsdz"
      },
      "outputs": [],
      "source": [
        "#Defining a function that splits the stocks into groups of 100.\n",
        "def chunks(lst, n):\n",
        "    for i in range(0, len(lst), n):\n",
        "        yield lst[i:i + n]\n",
        "\n",
        "symbol_groups = list(chunks(trades['Ticker'], 100))\n",
        "symbol_strings = []\n",
        "for i in range(0, len(symbol_groups)):\n",
        "    symbol_strings.append(','.join(symbol_groups[i]))\n",
        "symbol_strings\n"
      ]
    },
    {
      "cell_type": "code",
      "execution_count": null,
      "metadata": {
        "execution": {
          "iopub.execute_input": "2022-03-02T18:11:31.289166Z",
          "iopub.status.busy": "2022-03-02T18:11:31.288866Z",
          "iopub.status.idle": "2022-03-02T18:11:31.308374Z",
          "shell.execute_reply": "2022-03-02T18:11:31.307512Z",
          "shell.execute_reply.started": "2022-03-02T18:11:31.289119Z"
        },
        "trusted": true,
        "id": "5_FKsbsVxsdz"
      },
      "outputs": [],
      "source": [
        "trades[trades[\"Ticker\"] == \"VIAC\"]\n",
        "trades.drop(index=trades[trades['Ticker'] == 'VIAC'].index, inplace=True)"
      ]
    },
    {
      "cell_type": "markdown",
      "metadata": {
        "id": "H5G0Ny3Sxsdz"
      },
      "source": [
        "Adding required columns to trades dataframe"
      ]
    },
    {
      "cell_type": "code",
      "execution_count": null,
      "metadata": {
        "execution": {
          "iopub.execute_input": "2022-03-02T18:11:31.312559Z",
          "iopub.status.busy": "2022-03-02T18:11:31.311375Z",
          "iopub.status.idle": "2022-03-02T18:14:21.523639Z",
          "shell.execute_reply": "2022-03-02T18:14:21.522605Z",
          "shell.execute_reply.started": "2022-03-02T18:11:31.312479Z"
        },
        "trusted": true,
        "id": "fqkyL25Sxsdz"
      },
      "outputs": [],
      "source": [
        "my_columns = ['Ticker', 'Price', 'One-Year Price Return', 'Number of Shares to Buy']\n",
        "trades_data = pd.DataFrame(columns = my_columns)\n",
        "\n",
        "#IEX_CLOUD_API_TOKEN = \"pk_4195118eb2974d11b314c272d23b9b15\"\n",
        "\n",
        "for symbol_string in trades[\"Ticker\"]:\n",
        "    #print(symbol_strings)\n",
        "    batch_api_call_url = f'https://sandbox.iexapis.com/v1/stock/market/batch/?types=stats,quote&symbols={symbol_string}&token={IEX_CLOUD_API_TOKEN}'\n",
        "    data = requests.get(batch_api_call_url).json()\n",
        "    for symbol in symbol_string.split(','):\n",
        "        trades_data = trades_data.append(\n",
        "                                        pd.Series([symbol,\n",
        "                                                   data[symbol]['quote']['latestPrice'],\n",
        "                                                   data[symbol]['stats']['year1ChangePercent'],\n",
        "                                                   'N/A'\n",
        "                                                   ],\n",
        "                                                  index = my_columns),\n",
        "                                        ignore_index = True)\n",
        "\n",
        "\n",
        "trades_data"
      ]
    },
    {
      "cell_type": "markdown",
      "metadata": {
        "id": "sw9VMI1Hxsd0"
      },
      "source": [
        "### Momentum Strategy\n",
        "\n",
        "Momentum Startegy\" means Strategy applied on stocks that have increased in price the most.Here, we create a dataframe of  specific columns inorder to calculate the momentum score of the stocks and then we filter the stocks that have highest momentum score."
      ]
    },
    {
      "cell_type": "code",
      "execution_count": null,
      "metadata": {
        "execution": {
          "iopub.execute_input": "2022-03-02T18:14:21.525309Z",
          "iopub.status.busy": "2022-03-02T18:14:21.525042Z",
          "iopub.status.idle": "2022-03-02T18:14:21.533027Z",
          "shell.execute_reply": "2022-03-02T18:14:21.532078Z",
          "shell.execute_reply.started": "2022-03-02T18:14:21.525276Z"
        },
        "trusted": true,
        "id": "vSs4lTWIxsd0"
      },
      "outputs": [],
      "source": [
        "hqm_columns = [\n",
        "                'Ticker',\n",
        "                'Price',\n",
        "                'Market Capitalization',\n",
        "                'Number of Shares to Buy',\n",
        "                'One-Year Price Return',\n",
        "                'One-Year Return Percentile',\n",
        "                'Six-Month Price Return',\n",
        "                'Six-Month Return Percentile',\n",
        "                'Three-Month Price Return',\n",
        "                'Three-Month Return Percentile',\n",
        "                'One-Month Price Return',\n",
        "                'One-Month Return Percentile',\n",
        "                'HQM Score'\n",
        "                ]\n",
        "\n",
        "hqm_dataframe = pd.DataFrame(columns = hqm_columns)"
      ]
    },
    {
      "cell_type": "code",
      "execution_count": null,
      "metadata": {
        "execution": {
          "iopub.execute_input": "2022-03-02T18:14:21.535021Z",
          "iopub.status.busy": "2022-03-02T18:14:21.534752Z",
          "iopub.status.idle": "2022-03-02T18:14:21.554022Z",
          "shell.execute_reply": "2022-03-02T18:14:21.553447Z",
          "shell.execute_reply.started": "2022-03-02T18:14:21.534978Z"
        },
        "trusted": true,
        "id": "Nx_MU8lfxsd0"
      },
      "outputs": [],
      "source": [
        "len(hqm_dataframe)"
      ]
    },
    {
      "cell_type": "markdown",
      "metadata": {
        "id": "4LGnVgF5xsd0"
      },
      "source": [
        "###  Batch API Calls\n",
        "\n",
        " Batch API calls are one of the easiest ways to improve the performance of our code and to get fast response of the requests."
      ]
    },
    {
      "cell_type": "code",
      "execution_count": null,
      "metadata": {
        "execution": {
          "iopub.execute_input": "2022-03-02T18:14:21.555475Z",
          "iopub.status.busy": "2022-03-02T18:14:21.554965Z",
          "iopub.status.idle": "2022-03-02T18:17:23.677802Z",
          "shell.execute_reply": "2022-03-02T18:17:23.676023Z",
          "shell.execute_reply.started": "2022-03-02T18:14:21.555441Z"
        },
        "trusted": true,
        "id": "BnYq5fjkxsd0"
      },
      "outputs": [],
      "source": [
        "#Iterating  for loop to fetch the data of all S&P 500 stocks and adding them to hqm dataframe\n",
        "for symbol_string in trades[\"Ticker\"]:\n",
        "#     print(symbol_strings)\n",
        "    batch_api_call_url = f'https://sandbox.iexapis.com/stable/stock/market/batch/?types=stats,quote&symbols={symbol_string}&token={IEX_CLOUD_API_TOKEN}'\n",
        "    data = requests.get(batch_api_call_url).json()\n",
        "    for symbol in symbol_string.split(','):\n",
        "        hqm_dataframe = hqm_dataframe.append(\n",
        "                                        pd.Series([symbol,\n",
        "                                                   data[symbol]['quote']['latestPrice'],\n",
        "                                                   data[symbol]['quote']['marketCap'],\n",
        "                                                   'N/A',\n",
        "                                                   data[symbol]['stats']['year1ChangePercent'],\n",
        "                                                   'N/A',\n",
        "                                                   data[symbol]['stats']['month6ChangePercent'],\n",
        "                                                   'N/A',\n",
        "                                                   data[symbol]['stats']['month3ChangePercent'],\n",
        "                                                   'N/A',\n",
        "                                                   data[symbol]['stats']['month1ChangePercent'],\n",
        "                                                   'N/A',\n",
        "                                                   'N/A'\n",
        "                                                   ],\n",
        "                                                  index = hqm_columns),\n",
        "                                        ignore_index = True)\n",
        "\n",
        "hqm_dataframe.columns"
      ]
    },
    {
      "cell_type": "markdown",
      "metadata": {
        "id": "9SaghthIxsd0"
      },
      "source": []
    },
    {
      "cell_type": "code",
      "execution_count": null,
      "metadata": {
        "execution": {
          "iopub.execute_input": "2022-03-02T18:17:23.679305Z",
          "iopub.status.busy": "2022-03-02T18:17:23.678903Z",
          "iopub.status.idle": "2022-03-02T18:17:23.699486Z",
          "shell.execute_reply": "2022-03-02T18:17:23.698142Z",
          "shell.execute_reply.started": "2022-03-02T18:17:23.679271Z"
        },
        "trusted": true,
        "id": "K3S_HK6gxsd1"
      },
      "outputs": [],
      "source": [
        "hqm_dataframe.head()"
      ]
    },
    {
      "cell_type": "markdown",
      "metadata": {
        "id": "23gl6eCVxsd1"
      },
      "source": [
        "Sorting the trades dataframe based on One Year Price Return. We will consider the top 50 stocks."
      ]
    },
    {
      "cell_type": "code",
      "execution_count": null,
      "metadata": {
        "execution": {
          "iopub.execute_input": "2022-03-02T18:17:23.701871Z",
          "iopub.status.busy": "2022-03-02T18:17:23.701222Z",
          "iopub.status.idle": "2022-03-02T18:17:23.718734Z",
          "shell.execute_reply": "2022-03-02T18:17:23.717514Z",
          "shell.execute_reply.started": "2022-03-02T18:17:23.70183Z"
        },
        "trusted": true,
        "id": "XlfMHQpVxsd1"
      },
      "outputs": [],
      "source": [
        "\n",
        "hqm_dataframe.sort_values('One-Year Price Return', ascending = False, inplace = True)\n",
        "hqm_dataframe = hqm_dataframe[:51]\n",
        "hqm_dataframe.reset_index(drop = True, inplace = True)\n",
        "len(hqm_dataframe)"
      ]
    },
    {
      "cell_type": "markdown",
      "metadata": {
        "id": "bgkuhF4exsd1"
      },
      "source": [
        "Finding Null values and dropping them."
      ]
    },
    {
      "cell_type": "code",
      "execution_count": null,
      "metadata": {
        "execution": {
          "iopub.execute_input": "2022-03-02T18:17:23.723104Z",
          "iopub.status.busy": "2022-03-02T18:17:23.721836Z",
          "iopub.status.idle": "2022-03-02T18:17:23.740446Z",
          "shell.execute_reply": "2022-03-02T18:17:23.739598Z",
          "shell.execute_reply.started": "2022-03-02T18:17:23.723062Z"
        },
        "trusted": true,
        "id": "d2YByXP9xsd1"
      },
      "outputs": [],
      "source": [
        "hqm_dataframe[hqm_dataframe.isnull().any(axis=1)]\n",
        "hqm_dataframe.dropna(axis = 0, inplace =True)\n",
        "len(hqm_dataframe[hqm_dataframe.isnull().any(axis=1)].index)"
      ]
    },
    {
      "cell_type": "markdown",
      "metadata": {
        "execution": {
          "iopub.execute_input": "2022-02-16T18:46:07.353323Z",
          "iopub.status.busy": "2022-02-16T18:46:07.353062Z",
          "iopub.status.idle": "2022-02-16T18:46:07.360533Z",
          "shell.execute_reply": "2022-02-16T18:46:07.359585Z",
          "shell.execute_reply.started": "2022-02-16T18:46:07.353295Z"
        },
        "id": "Jbs8gDMexsd1"
      },
      "source": [
        "## Calculating Momentum Percentiles\n",
        "\n",
        "We need to calculate momentum percentile scores for the stocks, for the following metrics for every stock:\n",
        "\n",
        "* `One-Year Price Return`\n",
        "* `Six-Month Price Return`\n",
        "* `Three-Month Price Return`\n",
        "* `One-Month Price Return`\n"
      ]
    },
    {
      "cell_type": "code",
      "execution_count": null,
      "metadata": {
        "execution": {
          "iopub.execute_input": "2022-03-02T18:17:23.742603Z",
          "iopub.status.busy": "2022-03-02T18:17:23.742103Z",
          "iopub.status.idle": "2022-03-02T18:17:23.851816Z",
          "shell.execute_reply": "2022-03-02T18:17:23.851232Z",
          "shell.execute_reply.started": "2022-03-02T18:17:23.74256Z"
        },
        "trusted": true,
        "id": "fju6Ufw4xsd1"
      },
      "outputs": [],
      "source": [
        "from scipy import stats\n",
        "time_periods = [\n",
        "                'One-Year',\n",
        "                'Six-Month',\n",
        "                'Three-Month',\n",
        "                'One-Month'\n",
        "                ]\n",
        "\n",
        "for row in hqm_dataframe.index:\n",
        "    for time_period in time_periods:\n",
        "        hqm_dataframe.loc[row, f'{time_period} Return Percentile'] = stats.percentileofscore(hqm_dataframe[f'{time_period} Price Return'], hqm_dataframe.loc[row, f'{time_period} Price Return'])/100\n",
        "\n",
        "# Print each percentile score to make sure it was calculated properly\n",
        "for time_period in time_periods:\n",
        "    print(hqm_dataframe[f'{time_period} Return Percentile']*100)\n",
        "\n",
        "#Print the entire DataFrame\n",
        "hqm_dataframe"
      ]
    },
    {
      "cell_type": "markdown",
      "metadata": {
        "id": "-OcpqSL-xsd1"
      },
      "source": [
        "### Calculating High Quantity Momentum score\n",
        "It is obtained by calculating the mean of the percentile scores.\n",
        "\n"
      ]
    },
    {
      "cell_type": "code",
      "execution_count": null,
      "metadata": {
        "execution": {
          "iopub.execute_input": "2022-03-02T18:17:23.853355Z",
          "iopub.status.busy": "2022-03-02T18:17:23.852848Z",
          "iopub.status.idle": "2022-03-02T18:17:23.916588Z",
          "shell.execute_reply": "2022-03-02T18:17:23.915945Z",
          "shell.execute_reply.started": "2022-03-02T18:17:23.853319Z"
        },
        "trusted": true,
        "id": "jZftWHeSxsd1"
      },
      "outputs": [],
      "source": [
        "from statistics import mean\n",
        "\n",
        "for row in hqm_dataframe.index:\n",
        "    momentum_percentiles = []\n",
        "    for time_period in time_periods:\n",
        "        momentum_percentiles.append(hqm_dataframe.loc[row, f'{time_period} Return Percentile'])\n",
        "    hqm_dataframe.loc[row, 'HQM Score'] = mean(momentum_percentiles)*100\n",
        "hqm_dataframe"
      ]
    },
    {
      "cell_type": "markdown",
      "metadata": {
        "id": "9lzQYqkLxsd2"
      },
      "source": [
        "### Real Value Investing Strategy\n",
        "\n",
        "Here, we create a dataframe of specific columns inorder to calculate the real value score of the stocks and then we filter the stocks that have highest value score. For that, We use the following metrics.\n",
        "\n",
        "* Price-to-earnings ratio\n",
        "* Price-to-book ratio\n",
        "* Price-to-sales ratio\n",
        "* Enterprise Value divided by Earnings Before Interest, Taxes, Depreciation, and Amortization (EV/EBITDA)\n",
        "* Enterprise Value divided by Gross Profit (EV/GP)\n"
      ]
    },
    {
      "cell_type": "code",
      "execution_count": null,
      "metadata": {
        "execution": {
          "iopub.execute_input": "2022-03-02T18:17:23.918036Z",
          "iopub.status.busy": "2022-03-02T18:17:23.9177Z",
          "iopub.status.idle": "2022-03-02T18:17:23.924977Z",
          "shell.execute_reply": "2022-03-02T18:17:23.924342Z",
          "shell.execute_reply.started": "2022-03-02T18:17:23.918007Z"
        },
        "trusted": true,
        "id": "SLSiLDeNxsd2"
      },
      "outputs": [],
      "source": [
        "rv_columns = [\n",
        "    \"Ticker\",\n",
        "    \"Price\",\n",
        "    \"Num of Shares to Buy\",\n",
        "    \"Price_to_Earnings_Ratio\",\n",
        "    \"PE Percentile\",\n",
        "    \"Price_to_Book_Ratio\",\n",
        "    \"PB Percentile\",\n",
        "    \"Price_to_Sales_Ratio\",\n",
        "    \"PS Percentile\",\n",
        "    \"EV/EBITDA\",\n",
        "    \"EV/EBITDA Percentile\",\n",
        "    \"EV/GP\",\n",
        "    \"EV/GP Percentile\",\n",
        "    \"RV Score\"\n",
        "  ]\n",
        "rv_dataframe = pd.DataFrame(columns = rv_columns)\n"
      ]
    },
    {
      "cell_type": "markdown",
      "metadata": {
        "id": "ECW3aC7Xxsd2"
      },
      "source": [
        "Implementing Batch API Call"
      ]
    },
    {
      "cell_type": "code",
      "execution_count": null,
      "metadata": {
        "execution": {
          "iopub.execute_input": "2022-03-02T18:17:23.926483Z",
          "iopub.status.busy": "2022-03-02T18:17:23.92612Z"
        },
        "trusted": true,
        "id": "Sa_A9dtExsd2"
      },
      "outputs": [],
      "source": [
        "\n",
        "for  symbol_string in trades[\"Ticker\"]:\n",
        "    batch_api_call_url = f'https://sandbox.iexapis.com/stable/stock/market/batch?symbols={symbol_string}&types=quote,advanced-stats&token={IEX_CLOUD_API_TOKEN}'\n",
        "    #print(batch_api_url)\n",
        "    data = requests.get(batch_api_call_url).json()\n",
        "    #print(data.status_code)\n",
        "    for symbol in symbol_string.split(','):\n",
        "        enterprise_value = data[symbol][\"advanced-stats\"][\"enterpriseValue\"]\n",
        "        ebitda = data[symbol][\"advanced-stats\"][\"EBITDA\"]\n",
        "        gross_profit = data[symbol][\"advanced-stats\"][\"grossProfit\"]\n",
        "\n",
        "        try:\n",
        "            ev_to_ebitda = enterprise_value/ebitda\n",
        "        except:\n",
        "            ev_to_ebitda = np.NaN\n",
        "        try:\n",
        "            ev_to_gross_profit = enterprise_value/gross_profit\n",
        "        except:\n",
        "            ev_to_gross_profit = np.NaN\n",
        "\n",
        "        rv_dataframe = rv_dataframe.append(\n",
        "            pd.Series(\n",
        "               [\n",
        "                symbol,\n",
        "                data[symbol]['quote']['latestPrice'],\n",
        "                \"N/A\",\n",
        "                data[symbol]['quote']['peRatio'],\n",
        "                \"N/A\",\n",
        "                data[symbol][\"advanced-stats\"][\"priceToBook\"],\n",
        "                \"N/A\",\n",
        "                data[symbol][\"advanced-stats\"][\"priceToSales\"],\n",
        "                \"N/A\",\n",
        "                ev_to_ebitda,\n",
        "                \"N/A\",\n",
        "                ev_to_gross_profit,\n",
        "                \"N/A\",\n",
        "                \"N/A\"\n",
        "                 ],\n",
        "                index = rv_columns), ignore_index = True\n",
        "            )\n",
        "rv_dataframe\n"
      ]
    },
    {
      "cell_type": "markdown",
      "metadata": {
        "id": "jDbBR7o9xsd2"
      },
      "source": [
        "Finding Null values and dropping them."
      ]
    },
    {
      "cell_type": "code",
      "execution_count": null,
      "metadata": {
        "trusted": true,
        "id": "Mq3Xz2-Exsd2"
      },
      "outputs": [],
      "source": [
        "rv_dataframe[rv_dataframe.isnull().any(axis=1)]\n",
        "rv_dataframe.dropna(axis = 0, inplace =True)\n",
        "len(rv_dataframe[rv_dataframe.isnull().any(axis=1)].index)\n"
      ]
    },
    {
      "cell_type": "markdown",
      "metadata": {
        "id": "xuB2rCRyxsd3"
      },
      "source": [
        "Calculating RV Score"
      ]
    },
    {
      "cell_type": "code",
      "execution_count": null,
      "metadata": {
        "trusted": true,
        "id": "jOSf85Oexsd3"
      },
      "outputs": [],
      "source": [
        "\n",
        "from scipy.stats import percentileofscore as score\n",
        "metrics = {\n",
        "    \"Price_to_Earnings_Ratio\" : \"PE Percentile\",\n",
        "    \"Price_to_Book_Ratio\" : \"PB Percentile\" ,\n",
        "    \"Price_to_Sales_Ratio\" :  \"PS Percentile\",\n",
        "    \"EV/EBITDA\" : \"EV/EBITDA Percentile\",\n",
        "    \"EV/GP\" : \"EV/GP Percentile\"\n",
        "}\n",
        "for metric in metrics.keys():\n",
        "    for row in rv_dataframe.index:\n",
        "        rv_dataframe.loc[row, metrics[metric]] = score(rv_dataframe[metric],rv_dataframe.loc[row, metric])\n",
        "rv_dataframe\n"
      ]
    },
    {
      "cell_type": "code",
      "execution_count": null,
      "metadata": {
        "trusted": true,
        "id": "0PQnw6BPxsd3"
      },
      "outputs": [],
      "source": [
        "from statistics import mean\n",
        "for row in rv_dataframe.index:\n",
        "    value_percentiles = []\n",
        "    for metric in metrics.keys():\n",
        "        value_percentiles.append(rv_dataframe.loc[row, metrics[metric]])\n",
        "    rv_dataframe.loc[row, \"RV Score\"] = mean(value_percentiles)\n",
        "\n",
        "rv_dataframe\n"
      ]
    },
    {
      "cell_type": "markdown",
      "metadata": {
        "id": "fwCQdrDsxsd3"
      },
      "source": [
        "Sorting the data frame and getting TOP 50 highest Value Score stocks."
      ]
    },
    {
      "cell_type": "code",
      "execution_count": null,
      "metadata": {
        "trusted": true,
        "id": "xBdPopnJxseB"
      },
      "outputs": [],
      "source": [
        "rv_dataframe.sort_values(\"RV Score\", ascending = True, inplace = True)\n",
        "rv_dataframe = rv_dataframe[:50]\n"
      ]
    },
    {
      "cell_type": "code",
      "execution_count": null,
      "metadata": {
        "trusted": true,
        "id": "ahvpTcI2xseC"
      },
      "outputs": [],
      "source": [
        "len(rv_dataframe)"
      ]
    },
    {
      "cell_type": "code",
      "execution_count": null,
      "metadata": {
        "trusted": true,
        "id": "JcMknNKNxseC"
      },
      "outputs": [],
      "source": [
        "value_strategy.sort_values(\"Value Score\", ascending = False, inplace = True)\n",
        "value_strategy"
      ]
    },
    {
      "cell_type": "markdown",
      "metadata": {
        "id": "igRio_qhxseC"
      },
      "source": [
        "### Backtesting the Strategy"
      ]
    },
    {
      "cell_type": "code",
      "execution_count": null,
      "metadata": {
        "trusted": true,
        "id": "6QrPjPo5xseC"
      },
      "outputs": [],
      "source": [
        "rv_dataframe['Ticker'].isin(value_strategy['Ticker']).value_counts()"
      ]
    },
    {
      "cell_type": "code",
      "execution_count": null,
      "metadata": {
        "trusted": true,
        "id": "_acZ9L8RxseC"
      },
      "outputs": [],
      "source": [
        "hqm_dataframe['Ticker'].isin(momentum_srategy['Ticker']).value_counts()"
      ]
    },
    {
      "cell_type": "markdown",
      "metadata": {
        "id": "SD8nQDb0xseC"
      },
      "source": [
        "Thank You!!!"
      ]
    }
  ],
  "metadata": {
    "kaggle": {
      "accelerator": "none",
      "dataSources": [
        {
          "datasetId": 1508917,
          "sourceId": 2492555,
          "sourceType": "datasetVersion"
        },
        {
          "datasetId": 1949104,
          "sourceId": 3213113,
          "sourceType": "datasetVersion"
        }
      ],
      "dockerImageVersionId": 30157,
      "isGpuEnabled": false,
      "isInternetEnabled": false,
      "language": "python",
      "sourceType": "notebook"
    },
    "kernelspec": {
      "display_name": "Python 3",
      "language": "python",
      "name": "python3"
    },
    "language_info": {
      "codemirror_mode": {
        "name": "ipython",
        "version": 3
      },
      "file_extension": ".py",
      "mimetype": "text/x-python",
      "name": "python",
      "nbconvert_exporter": "python",
      "pygments_lexer": "ipython3",
      "version": "3.6.4"
    },
    "colab": {
      "provenance": [],
      "include_colab_link": true
    }
  },
  "nbformat": 4,
  "nbformat_minor": 0
}